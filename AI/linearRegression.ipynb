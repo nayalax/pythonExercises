{
 "cells": [
  {
   "cell_type": "code",
   "execution_count": 1,
   "metadata": {},
   "outputs": [
    {
     "name": "stderr",
     "output_type": "stream",
     "text": [
      "c:\\Python312\\Lib\\site-packages\\tqdm\\auto.py:21: TqdmWarning: IProgress not found. Please update jupyter and ipywidgets. See https://ipywidgets.readthedocs.io/en/stable/user_install.html\n",
      "  from .autonotebook import tqdm as notebook_tqdm\n"
     ]
    },
    {
     "name": "stdout",
     "output_type": "stream",
     "text": [
      "MSE: 0.33030285921733915\n",
      "R²: 0.6612161374884723\n",
      "Running on local URL:  http://127.0.0.1:7860\n",
      "\n",
      "To create a public link, set `share=True` in `launch()`.\n"
     ]
    },
    {
     "data": {
      "text/html": [
       "<div><iframe src=\"http://127.0.0.1:7860/\" width=\"100%\" height=\"500\" allow=\"autoplay; camera; microphone; clipboard-read; clipboard-write;\" frameborder=\"0\" allowfullscreen></iframe></div>"
      ],
      "text/plain": [
       "<IPython.core.display.HTML object>"
      ]
     },
     "metadata": {},
     "output_type": "display_data"
    },
    {
     "data": {
      "text/plain": []
     },
     "execution_count": 1,
     "metadata": {},
     "output_type": "execute_result"
    }
   ],
   "source": [
    "import gradio as gr\n",
    "import pandas as pd\n",
    "from sklearn.metrics import r2_score\n",
    "from sklearn.linear_model import LinearRegression\n",
    "from sklearn.metrics import mean_squared_error\n",
    "from sklearn.model_selection import train_test_split\n",
    "\n",
    "df = pd.read_csv('../data/pisos_huge.csv')\n",
    "dfDist = pd.read_csv('../data/distritos.csv')\n",
    "\n",
    "# X son las características (superficie_construida y distritos_id) e Y es lo que queremos predecir (precio)\n",
    "x= df[['superficie_construida', 'distritos_id']]\n",
    "y= df['precio']\n",
    "\n",
    "# Se añade una nueva columna al DataFrame que representa el precio por metro cuadrado. Esto se hace dividiendo el precio entre la superficie construida.\n",
    "df['precio_m2'] = df['precio'] / df['superficie_construida']\n",
    "\n",
    "# Eliminate outliers using 99th and 1st percentile for m2 price\n",
    "df = df[df['precio_m2'] < df['precio_m2'].quantile(0.99)]\n",
    "df = df[df['precio_m2'] > df['precio_m2'].quantile(0.01)]\n",
    "\n",
    "# Con los datos limpios volvemos a reasignar x e y\n",
    "x = df[['superficie_construida', 'distritos_id']]\n",
    "y = df['precio']\n",
    "\n",
    "# Normalizar los datos\n",
    "media_superficie = x['superficie_construida'].mean()\n",
    "std_superficie = x['superficie_construida'].std()\n",
    "superficie_normalizada = (df['superficie_construida'] - media_superficie) / std_superficie\n",
    "# Combinar la superficie normalizada con 'distritos_id' no normalizado\n",
    "caracteristicas = pd.DataFrame({\n",
    "    'superficie_construida': superficie_normalizada,\n",
    "    'distritos_id': df['distritos_id']\n",
    "})\n",
    "precios = (y - y.mean()) / y.std()\n",
    "\n",
    "# Dividir los datos en conjunto de entrenamiento y prueba\n",
    "x_train, x_test, y_train, y_test = train_test_split(caracteristicas, precios, test_size=0.2, random_state=42)\n",
    "\n",
    "# Crear el modelo de regresión lineal\n",
    "model = LinearRegression()\n",
    "# Entrenar el modelo\n",
    "model.fit(x_train, y_train)\n",
    "\n",
    "# Hacer predicciones en el conjunto de prueba\n",
    "y_pred = model.predict(x_test)\n",
    "# Evaluar el modelo\n",
    "mse = mean_squared_error(y_test, y_pred)\n",
    "r2 = r2_score(y_test, y_pred)\n",
    "print(f'MSE: {mse}')\n",
    "print(f'R²: {r2}')\n",
    "\n",
    "distritos = dict(zip( dfDist['id'],dfDist['distrito']))\n",
    "# Crear la lista de opciones para el Dropdown como tuplas (nombre, id)\n",
    "opciones_distritos = [(nombre, id) for id, nombre in distritos.items()]\n",
    "\n",
    "\n",
    "def predict_precio(superficie, distrito):\n",
    "    # Normalizar solo la superficie construida\n",
    "    superficie_normalizada = (superficie - media_superficie) / std_superficie\n",
    "    # Convertirlos en un DataFrame de Pandas para la predicción\n",
    "    datos_prediccion = pd.DataFrame({\n",
    "        'superficie_construida': [superficie_normalizada],\n",
    "        'distritos_id': [distrito]\n",
    "    })\n",
    "    # Hacer la predicción (sin normalizar el distrito)\n",
    "    precio_pred_normalizado = model.predict(datos_prediccion)\n",
    "    # Desnormalizar la predicción del precio para mostrarlo al usuario\n",
    "    precio_pred = precio_pred_normalizado * y.std() + y.mean()\n",
    "    precio_formateado = '{:20,d} €'.format(int(precio_pred[0]))\n",
    "    return precio_formateado\n",
    "\n",
    "# Crear la interfaz con Gradio\n",
    "iface = gr.Interface(\n",
    "    fn=predict_precio,\n",
    "    inputs=[\"number\", gr.Dropdown(opciones_distritos)],\n",
    "    outputs=\"text\", # Cambiado a 'text' para permitir una cadena\n",
    "    title=\"Predicción de Precio de Inmueble\",\n",
    "    description=\"Introduce los metros cuadrados y selecciona el distrito para predecir el precio\"\n",
    ")\n",
    "# Ejecutar la interfaz\n",
    "iface.launch()"
   ]
  }
 ],
 "metadata": {
  "kernelspec": {
   "display_name": "Python 3",
   "language": "python",
   "name": "python3"
  },
  "language_info": {
   "codemirror_mode": {
    "name": "ipython",
    "version": 3
   },
   "file_extension": ".py",
   "mimetype": "text/x-python",
   "name": "python",
   "nbconvert_exporter": "python",
   "pygments_lexer": "ipython3",
   "version": "3.12.2"
  }
 },
 "nbformat": 4,
 "nbformat_minor": 2
}
