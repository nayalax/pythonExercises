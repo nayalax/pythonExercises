{
 "cells": [
  {
   "cell_type": "code",
   "execution_count": 1,
   "metadata": {},
   "outputs": [],
   "source": [
    "import os\n",
    "from kaggle.api.kaggle_api_extended import KaggleApi\n",
    "import zipfile\n",
    "from PIL import Image\n",
    "import numpy as np\n",
    "from keras.models import Sequential\n",
    "from keras.layers import Conv2D, MaxPooling2D, Flatten, Dense, Input\n",
    "from sklearn.model_selection import train_test_split\n",
    "from setuptools import distutils as _distutils\n",
    "from utils import cargar_y_preprocesar_imagen, predecir_imagen\n",
    "# Configurar la API de Kaggle\n",
    "api = KaggleApi()\n",
    "api.authenticate()"
   ]
  },
  {
   "cell_type": "code",
   "execution_count": 2,
   "metadata": {},
   "outputs": [],
   "source": [
    "# Descargar el conjunto de datos\n",
    "if os.path.exists('kaggle-cat-vs-dog-dataset.zip') is False:\n",
    "    api.dataset_download_files('karakaggle/kaggle-cat-vs-dog-dataset')\n",
    "# kaggle datasets download -d karakaggle/kaggle-cat-vs-dog-dataset\n",
    "# Descomprimir el archivo descargado\n",
    "if os.path.exists('dogs_vs_cats\\\\kagglecatsanddogs_3367a\\\\PetImages') is False:\n",
    "    with zipfile.ZipFile('kaggle-cat-vs-dog-dataset.zip', 'r') as file:\n",
    "        file.extractall('dogs_vs_cats')\n",
    "# Los archivos ahora deben estar en la carpeta 'dogs_vs_cats'"
   ]
  },
  {
   "cell_type": "code",
   "execution_count": 3,
   "metadata": {},
   "outputs": [],
   "source": [
    "# Rutas a las carpetas de gatos y perros\n",
    "ruta_gatos = 'C:\\\\Users\\\\nicholas.ayala\\\\Repos\\\\GenAITraining\\\\pythonExercises\\\\AI\\\\dogs_vs_cats\\\\kagglecatsanddogs_3367a\\\\PetImages\\\\Cat'\n",
    "ruta_perros = 'C:\\\\Users\\\\nicholas.ayala\\\\Repos\\\\GenAITraining\\\\pythonExercises\\\\AI\\\\dogs_vs_cats\\\\kagglecatsanddogs_3367a\\\\PetImages\\\\Dog'\n",
    "# Cargar y preprocesar imágenes\n",
    "imagenes = []\n",
    "etiquetas = []\n",
    "# Cargar gatos\n",
    "for archivo in os.listdir(ruta_gatos):\n",
    "    ruta_completa = os.path.join(ruta_gatos, archivo)\n",
    "# Lista de extensiones permitidas\n",
    "    extensiones_permitidas = ['.jpg', '.jpeg', '.png', '.bmp']\n",
    "    _, extension = os.path.splitext(archivo)\n",
    "# otra opción podría ser ruta_imagen[-4:].lower() para obtener la extensión pero mejor así.\n",
    "# Comprobar que la extensión es una de las permitidas\n",
    "    if (extension.lower() in extensiones_permitidas):\n",
    "        try:\n",
    "            img = cargar_y_preprocesar_imagen(ruta_completa)\n",
    "            imagenes.append(img)\n",
    "            etiquetas.append(0) # 0 para gatos\n",
    "        except:\n",
    "            print(f\"No se pudo cargar la imagen {archivo}\")\n",
    "    else:\n",
    "        continue"
   ]
  },
  {
   "cell_type": "code",
   "execution_count": 4,
   "metadata": {},
   "outputs": [
    {
     "name": "stderr",
     "output_type": "stream",
     "text": [
      "c:\\Python312\\Lib\\site-packages\\PIL\\TiffImagePlugin.py:870: UserWarning: Truncated File Read\n",
      "  warnings.warn(str(msg))\n"
     ]
    }
   ],
   "source": [
    "# Cargar perros\n",
    "for archivo in os.listdir(ruta_perros):\n",
    "    ruta_completa = os.path.join(ruta_perros, archivo)\n",
    "# Lista de extensiones permitidas\n",
    "    extensiones_permitidas = ['.jpg', '.jpeg', '.png', '.bmp']\n",
    "    _, extension = os.path.splitext(archivo)\n",
    "# otra opción podría ser ruta_imagen[-4:].lower() para obtener la extensión pero mejor así.\n",
    "# Comprobar que la extensión es una de las permitidas\n",
    "    if (extension.lower() in extensiones_permitidas):\n",
    "        try:\n",
    "            img = cargar_y_preprocesar_imagen(ruta_completa)\n",
    "            imagenes.append(img)\n",
    "            etiquetas.append(1) # 1 para perros\n",
    "        except:\n",
    "            print(f\"No se pudo cargar la imagen {archivo}\")\n",
    "    else:\n",
    "        continue"
   ]
  },
  {
   "cell_type": "code",
   "execution_count": 5,
   "metadata": {},
   "outputs": [],
   "source": [
    "# Convertir listas a arrays de Numpy\n",
    "imagenes = np.array(imagenes)\n",
    "etiquetas = np.array(etiquetas)\n",
    "X_train, X_test, y_train, y_test = train_test_split(imagenes, etiquetas, test_size=0.2, random_state=42)\n",
    "# Construcción del modelo\n",
    "modelo = Sequential([\n",
    "    Conv2D(32, (3, 3), activation='relu', input_shape=(64, 64, 3)),\n",
    "    MaxPooling2D(2, 2),\n",
    "    Conv2D(64, (3, 3), activation='relu'),\n",
    "    MaxPooling2D(2, 2),\n",
    "    Flatten(),\n",
    "    Dense(128, activation='relu'),\n",
    "    Dense(1, activation='sigmoid')\n",
    "])\n",
    "# Compilación del modelo\n",
    "modelo.compile(optimizer='adam', loss='binary_crossentropy', metrics=['accuracy'])"
   ]
  },
  {
   "cell_type": "code",
   "execution_count": 6,
   "metadata": {},
   "outputs": [
    {
     "name": "stdout",
     "output_type": "stream",
     "text": [
      "Epoch 1/10\n"
     ]
    },
    {
     "ename": "ValueError",
     "evalue": "Layers added to a Sequential model can only have a single positional argument, the input tensor. Layer InputLayer has multiple positional arguments: []",
     "output_type": "error",
     "traceback": [
      "\u001b[1;31m---------------------------------------------------------------------------\u001b[0m",
      "\u001b[1;31mValueError\u001b[0m                                Traceback (most recent call last)",
      "Cell \u001b[1;32mIn[6], line 2\u001b[0m\n\u001b[0;32m      1\u001b[0m \u001b[38;5;66;03m# Entrenamiento del modelo\u001b[39;00m\n\u001b[1;32m----> 2\u001b[0m \u001b[43mmodelo\u001b[49m\u001b[38;5;241;43m.\u001b[39;49m\u001b[43mfit\u001b[49m\u001b[43m(\u001b[49m\u001b[43mX_train\u001b[49m\u001b[43m,\u001b[49m\u001b[43m \u001b[49m\u001b[43my_train\u001b[49m\u001b[43m,\u001b[49m\u001b[43m \u001b[49m\u001b[43mepochs\u001b[49m\u001b[38;5;241;43m=\u001b[39;49m\u001b[38;5;241;43m10\u001b[39;49m\u001b[43m,\u001b[49m\u001b[43m \u001b[49m\u001b[43mvalidation_data\u001b[49m\u001b[38;5;241;43m=\u001b[39;49m\u001b[43m(\u001b[49m\u001b[43mX_test\u001b[49m\u001b[43m,\u001b[49m\u001b[43m \u001b[49m\u001b[43my_test\u001b[49m\u001b[43m)\u001b[49m\u001b[43m)\u001b[49m\n\u001b[0;32m      3\u001b[0m \u001b[38;5;66;03m# Evaluar el modelo\u001b[39;00m\n\u001b[0;32m      4\u001b[0m evaluacion \u001b[38;5;241m=\u001b[39m modelo\u001b[38;5;241m.\u001b[39mevaluate(X_test, y_test)\n",
      "File \u001b[1;32mc:\\Python312\\Lib\\site-packages\\keras\\src\\utils\\traceback_utils.py:123\u001b[0m, in \u001b[0;36mfilter_traceback.<locals>.error_handler\u001b[1;34m(*args, **kwargs)\u001b[0m\n\u001b[0;32m    120\u001b[0m     filtered_tb \u001b[38;5;241m=\u001b[39m _process_traceback_frames(e\u001b[38;5;241m.\u001b[39m__traceback__)\n\u001b[0;32m    121\u001b[0m     \u001b[38;5;66;03m# To get the full stack trace, call:\u001b[39;00m\n\u001b[0;32m    122\u001b[0m     \u001b[38;5;66;03m# `keras.config.disable_traceback_filtering()`\u001b[39;00m\n\u001b[1;32m--> 123\u001b[0m     \u001b[38;5;28;01mraise\u001b[39;00m e\u001b[38;5;241m.\u001b[39mwith_traceback(filtered_tb) \u001b[38;5;28;01mfrom\u001b[39;00m \u001b[38;5;28;01mNone\u001b[39;00m\n\u001b[0;32m    124\u001b[0m \u001b[38;5;28;01mfinally\u001b[39;00m:\n\u001b[0;32m    125\u001b[0m     \u001b[38;5;28;01mdel\u001b[39;00m filtered_tb\n",
      "File \u001b[1;32mc:\\Python312\\Lib\\site-packages\\keras\\src\\models\\sequential.py:190\u001b[0m, in \u001b[0;36mSequential.build\u001b[1;34m(self, input_shape)\u001b[0m\n\u001b[0;32m    184\u001b[0m         positional_args \u001b[38;5;241m=\u001b[39m [\n\u001b[0;32m    185\u001b[0m             param\n\u001b[0;32m    186\u001b[0m             \u001b[38;5;28;01mfor\u001b[39;00m param \u001b[38;5;129;01min\u001b[39;00m signature\u001b[38;5;241m.\u001b[39mparameters\u001b[38;5;241m.\u001b[39mvalues()\n\u001b[0;32m    187\u001b[0m             \u001b[38;5;28;01mif\u001b[39;00m param\u001b[38;5;241m.\u001b[39mdefault \u001b[38;5;241m==\u001b[39m inspect\u001b[38;5;241m.\u001b[39mParameter\u001b[38;5;241m.\u001b[39mempty\n\u001b[0;32m    188\u001b[0m         ]\n\u001b[0;32m    189\u001b[0m         \u001b[38;5;28;01mif\u001b[39;00m \u001b[38;5;28mlen\u001b[39m(positional_args) \u001b[38;5;241m!=\u001b[39m \u001b[38;5;241m1\u001b[39m:\n\u001b[1;32m--> 190\u001b[0m             \u001b[38;5;28;01mraise\u001b[39;00m \u001b[38;5;167;01mValueError\u001b[39;00m(\n\u001b[0;32m    191\u001b[0m                 \u001b[38;5;124m\"\u001b[39m\u001b[38;5;124mLayers added to a Sequential model \u001b[39m\u001b[38;5;124m\"\u001b[39m\n\u001b[0;32m    192\u001b[0m                 \u001b[38;5;124m\"\u001b[39m\u001b[38;5;124mcan only have a single positional argument, \u001b[39m\u001b[38;5;124m\"\u001b[39m\n\u001b[0;32m    193\u001b[0m                 \u001b[38;5;124mf\u001b[39m\u001b[38;5;124m\"\u001b[39m\u001b[38;5;124mthe input tensor. Layer \u001b[39m\u001b[38;5;132;01m{\u001b[39;00mlayer\u001b[38;5;241m.\u001b[39m\u001b[38;5;18m__class__\u001b[39m\u001b[38;5;241m.\u001b[39m\u001b[38;5;18m__name__\u001b[39m\u001b[38;5;132;01m}\u001b[39;00m\u001b[38;5;124m \u001b[39m\u001b[38;5;124m\"\u001b[39m\n\u001b[0;32m    194\u001b[0m                 \u001b[38;5;124mf\u001b[39m\u001b[38;5;124m\"\u001b[39m\u001b[38;5;124mhas multiple positional arguments: \u001b[39m\u001b[38;5;132;01m{\u001b[39;00mpositional_args\u001b[38;5;132;01m}\u001b[39;00m\u001b[38;5;124m\"\u001b[39m\n\u001b[0;32m    195\u001b[0m             )\n\u001b[0;32m    196\u001b[0m         \u001b[38;5;28;01mraise\u001b[39;00m e\n\u001b[0;32m    197\u001b[0m outputs \u001b[38;5;241m=\u001b[39m x\n",
      "\u001b[1;31mValueError\u001b[0m: Layers added to a Sequential model can only have a single positional argument, the input tensor. Layer InputLayer has multiple positional arguments: []"
     ]
    }
   ],
   "source": [
    "# Entrenamiento del modelo\n",
    "modelo.fit(X_train, y_train, epochs=10, validation_data=(X_test, y_test))\n",
    "# Evaluar el modelo\n",
    "evaluacion = modelo.evaluate(X_test, y_test)\n",
    "print(f\"Test Accuracy: {evaluacion[1] * 100}%\")\n",
    "modelo.save('modelo_cats_vs_dogs.keras') # Guarda el modelo en un archivo .keras"
   ]
  },
  {
   "cell_type": "code",
   "execution_count": null,
   "metadata": {},
   "outputs": [],
   "source": [
    "predecir_imagen('dogs_vs_cats/predict/puppy01.jpg')\n",
    "predecir_imagen('dogs_vs_cats/predict/unknown.png')\n",
    "predecir_imagen('dogs_vs_cats/predict/unknown1.png')\n",
    "predecir_imagen('dogs_vs_cats/predict/gato1.jpg')\n",
    "predecir_imagen('dogs_vs_cats/predict/gato2.jpg')"
   ]
  }
 ],
 "metadata": {
  "kernelspec": {
   "display_name": "Python 3",
   "language": "python",
   "name": "python3"
  },
  "language_info": {
   "codemirror_mode": {
    "name": "ipython",
    "version": 3
   },
   "file_extension": ".py",
   "mimetype": "text/x-python",
   "name": "python",
   "nbconvert_exporter": "python",
   "pygments_lexer": "ipython3",
   "version": "3.12.2"
  }
 },
 "nbformat": 4,
 "nbformat_minor": 2
}
