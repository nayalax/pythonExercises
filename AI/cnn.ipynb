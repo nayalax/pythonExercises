{
 "cells": [
  {
   "cell_type": "code",
   "execution_count": 1,
   "metadata": {},
   "outputs": [],
   "source": [
    "import os\n",
    "from kaggle.api.kaggle_api_extended import KaggleApi\n",
    "import zipfile\n",
    "from PIL import Image\n",
    "import numpy as np\n",
    "from keras.models import Sequential\n",
    "from keras.layers import Conv2D, MaxPooling2D, Flatten, Dense, Input\n",
    "from sklearn.model_selection import train_test_split\n",
    "from setuptools import distutils as _distutils\n",
    "from utils import cargar_y_preprocesar_imagen, predecir_imagen\n",
    "# Configurar la API de Kaggle\n",
    "api = KaggleApi()\n",
    "api.authenticate()"
   ]
  },
  {
   "cell_type": "code",
   "execution_count": 2,
   "metadata": {},
   "outputs": [],
   "source": [
    "# Descargar el conjunto de datos\n",
    "if os.path.exists('kaggle-cat-vs-dog-dataset.zip') is False:\n",
    "    api.dataset_download_files('karakaggle/kaggle-cat-vs-dog-dataset')\n",
    "# kaggle datasets download -d karakaggle/kaggle-cat-vs-dog-dataset\n",
    "# Descomprimir el archivo descargado\n",
    "if os.path.exists('dogs_vs_cats\\\\kagglecatsanddogs_3367a\\\\PetImages') is False:\n",
    "    with zipfile.ZipFile('kaggle-cat-vs-dog-dataset.zip', 'r') as file:\n",
    "        file.extractall('dogs_vs_cats')\n",
    "# Los archivos ahora deben estar en la carpeta 'dogs_vs_cats'"
   ]
  },
  {
   "cell_type": "code",
   "execution_count": 3,
   "metadata": {},
   "outputs": [
    {
     "name": "stdout",
     "output_type": "stream",
     "text": [
      "No se pudo cargar la imagen 2561.jpg\n"
     ]
    }
   ],
   "source": [
    "# Rutas a las carpetas de gatos y perros\n",
    "ruta_gatos = 'C:\\\\Users\\\\nicholas.ayala\\\\Repos\\\\GenAITraining\\\\pythonExercises\\\\AI\\\\dogs_vs_cats\\\\kagglecatsanddogs_3367a\\\\PetImages\\\\Cat'\n",
    "ruta_perros = 'C:\\\\Users\\\\nicholas.ayala\\\\Repos\\\\GenAITraining\\\\pythonExercises\\\\AI\\\\dogs_vs_cats\\\\kagglecatsanddogs_3367a\\\\PetImages\\\\Dog'\n",
    "# Cargar y preprocesar imágenes\n",
    "imagenes = []\n",
    "etiquetas = []\n",
    "# Cargar gatos\n",
    "for archivo in os.listdir(ruta_gatos):\n",
    "    ruta_completa = os.path.join(ruta_gatos, archivo)\n",
    "# Lista de extensiones permitidas\n",
    "    extensiones_permitidas = ['.jpg', '.jpeg', '.png', '.bmp']\n",
    "    _, extension = os.path.splitext(archivo)\n",
    "# otra opción podría ser ruta_imagen[-4:].lower() para obtener la extensión pero mejor así.\n",
    "# Comprobar que la extensión es una de las permitidas\n",
    "    if (extension.lower() in extensiones_permitidas):\n",
    "        try:\n",
    "            img = cargar_y_preprocesar_imagen(ruta_completa)\n",
    "            imagenes.append(img)\n",
    "            etiquetas.append(0) # 0 para gatos\n",
    "        except:\n",
    "            print(f\"No se pudo cargar la imagen {archivo}\")\n",
    "    else:\n",
    "        continue"
   ]
  },
  {
   "cell_type": "code",
   "execution_count": null,
   "metadata": {},
   "outputs": [
    {
     "name": "stderr",
     "output_type": "stream",
     "text": [
      "c:\\Python312\\Lib\\site-packages\\PIL\\TiffImagePlugin.py:870: UserWarning: Truncated File Read\n",
      "  warnings.warn(str(msg))\n"
     ]
    }
   ],
   "source": [
    "# Cargar perros\n",
    "for archivo in os.listdir(ruta_perros):\n",
    "    ruta_completa = os.path.join(ruta_perros, archivo)\n",
    "# Lista de extensiones permitidas\n",
    "    extensiones_permitidas = ['.jpg', '.jpeg', '.png', '.bmp']\n",
    "    _, extension = os.path.splitext(archivo)\n",
    "# otra opción podría ser ruta_imagen[-4:].lower() para obtener la extensión pero mejor así.\n",
    "# Comprobar que la extensión es una de las permitidas\n",
    "    if (extension.lower() in extensiones_permitidas):\n",
    "        try:\n",
    "            img = cargar_y_preprocesar_imagen(ruta_completa)\n",
    "            imagenes.append(img)\n",
    "            etiquetas.append(1) # 1 para perros\n",
    "        except:\n",
    "            print(f\"No se pudo cargar la imagen {archivo}\")\n",
    "    else:\n",
    "        continue"
   ]
  },
  {
   "cell_type": "code",
   "execution_count": null,
   "metadata": {},
   "outputs": [
    {
     "name": "stderr",
     "output_type": "stream",
     "text": [
      "c:\\Python312\\Lib\\site-packages\\keras\\src\\layers\\convolutional\\base_conv.py:99: UserWarning: Do not pass an `input_shape`/`input_dim` argument to a layer. When using Sequential models, prefer using an `Input(shape)` object as the first layer in the model instead.\n",
      "  super().__init__(\n"
     ]
    }
   ],
   "source": [
    "# Convertir listas a arrays de Numpy\n",
    "imagenes = np.array(imagenes)\n",
    "etiquetas = np.array(etiquetas)\n",
    "X_train, X_test, y_train, y_test = train_test_split(imagenes, etiquetas, test_size=0.2, random_state=42)\n",
    "# Construcción del modelo\n",
    "modelo = Sequential([\n",
    "    Conv2D(32, (3, 3), activation='relu', input_shape=(64, 64, 3)),\n",
    "    MaxPooling2D(2, 2),\n",
    "    Conv2D(64, (3, 3), activation='relu'),\n",
    "    MaxPooling2D(2, 2),\n",
    "    Flatten(),\n",
    "    Dense(128, activation='relu'),\n",
    "    Dense(1, activation='sigmoid')\n",
    "])\n",
    "# Compilación del modelo\n",
    "modelo.compile(optimizer='adam', loss='binary_crossentropy', metrics=['accuracy'])"
   ]
  },
  {
   "cell_type": "code",
   "execution_count": null,
   "metadata": {},
   "outputs": [
    {
     "name": "stdout",
     "output_type": "stream",
     "text": [
      "Epoch 1/10\n",
      "\u001b[1m624/624\u001b[0m \u001b[32m━━━━━━━━━━━━━━━━━━━━\u001b[0m\u001b[37m\u001b[0m \u001b[1m16s\u001b[0m 24ms/step - accuracy: 0.6018 - loss: 0.6749 - val_accuracy: 0.7248 - val_loss: 0.5376\n",
      "Epoch 2/10\n",
      "\u001b[1m624/624\u001b[0m \u001b[32m━━━━━━━━━━━━━━━━━━━━\u001b[0m\u001b[37m\u001b[0m \u001b[1m15s\u001b[0m 23ms/step - accuracy: 0.7528 - loss: 0.5041 - val_accuracy: 0.7508 - val_loss: 0.5137\n",
      "Epoch 3/10\n",
      "\u001b[1m624/624\u001b[0m \u001b[32m━━━━━━━━━━━━━━━━━━━━\u001b[0m\u001b[37m\u001b[0m \u001b[1m14s\u001b[0m 22ms/step - accuracy: 0.7980 - loss: 0.4384 - val_accuracy: 0.7835 - val_loss: 0.4501\n",
      "Epoch 4/10\n",
      "\u001b[1m624/624\u001b[0m \u001b[32m━━━━━━━━━━━━━━━━━━━━\u001b[0m\u001b[37m\u001b[0m \u001b[1m19s\u001b[0m 30ms/step - accuracy: 0.8370 - loss: 0.3733 - val_accuracy: 0.7859 - val_loss: 0.4411\n",
      "Epoch 5/10\n",
      "\u001b[1m624/624\u001b[0m \u001b[32m━━━━━━━━━━━━━━━━━━━━\u001b[0m\u001b[37m\u001b[0m \u001b[1m20s\u001b[0m 32ms/step - accuracy: 0.8727 - loss: 0.3006 - val_accuracy: 0.7993 - val_loss: 0.4493\n",
      "Epoch 6/10\n",
      "\u001b[1m624/624\u001b[0m \u001b[32m━━━━━━━━━━━━━━━━━━━━\u001b[0m\u001b[37m\u001b[0m \u001b[1m21s\u001b[0m 33ms/step - accuracy: 0.9197 - loss: 0.2054 - val_accuracy: 0.7829 - val_loss: 0.5203\n",
      "Epoch 7/10\n",
      "\u001b[1m624/624\u001b[0m \u001b[32m━━━━━━━━━━━━━━━━━━━━\u001b[0m\u001b[37m\u001b[0m \u001b[1m18s\u001b[0m 30ms/step - accuracy: 0.9535 - loss: 0.1269 - val_accuracy: 0.7929 - val_loss: 0.6244\n",
      "Epoch 8/10\n",
      "\u001b[1m624/624\u001b[0m \u001b[32m━━━━━━━━━━━━━━━━━━━━\u001b[0m\u001b[37m\u001b[0m \u001b[1m20s\u001b[0m 32ms/step - accuracy: 0.9816 - loss: 0.0637 - val_accuracy: 0.7819 - val_loss: 0.7318\n",
      "Epoch 9/10\n",
      "\u001b[1m624/624\u001b[0m \u001b[32m━━━━━━━━━━━━━━━━━━━━\u001b[0m\u001b[37m\u001b[0m \u001b[1m19s\u001b[0m 30ms/step - accuracy: 0.9884 - loss: 0.0391 - val_accuracy: 0.7772 - val_loss: 0.8781\n",
      "Epoch 10/10\n",
      "\u001b[1m624/624\u001b[0m \u001b[32m━━━━━━━━━━━━━━━━━━━━\u001b[0m\u001b[37m\u001b[0m \u001b[1m17s\u001b[0m 27ms/step - accuracy: 0.9878 - loss: 0.0398 - val_accuracy: 0.7849 - val_loss: 0.9643\n",
      "\u001b[1m156/156\u001b[0m \u001b[32m━━━━━━━━━━━━━━━━━━━━\u001b[0m\u001b[37m\u001b[0m \u001b[1m1s\u001b[0m 6ms/step - accuracy: 0.7862 - loss: 0.9329\n",
      "Test Accuracy: 78.48557829856873%\n"
     ]
    }
   ],
   "source": [
    "# Entrenamiento del modelo\n",
    "modelo.fit(X_train, y_train, epochs=10, validation_data=(X_test, y_test))\n",
    "# Evaluar el modelo\n",
    "evaluacion = modelo.evaluate(X_test, y_test)\n",
    "print(f\"Test Accuracy: {evaluacion[1] * 100}%\")\n",
    "modelo.save('modelo_cats_vs_dogs.keras') # Guarda el modelo en un archivo .keras"
   ]
  },
  {
   "cell_type": "code",
   "execution_count": 4,
   "metadata": {},
   "outputs": [
    {
     "name": "stdout",
     "output_type": "stream",
     "text": [
      "\u001b[1m1/1\u001b[0m \u001b[32m━━━━━━━━━━━━━━━━━━━━\u001b[0m\u001b[37m\u001b[0m \u001b[1m0s\u001b[0m 65ms/step\n",
      "Es un perro\n",
      "\u001b[1m1/1\u001b[0m \u001b[32m━━━━━━━━━━━━━━━━━━━━\u001b[0m\u001b[37m\u001b[0m \u001b[1m0s\u001b[0m 41ms/step\n",
      "Es un gato\n",
      "\u001b[1m1/1\u001b[0m \u001b[32m━━━━━━━━━━━━━━━━━━━━\u001b[0m\u001b[37m\u001b[0m \u001b[1m0s\u001b[0m 42ms/step\n",
      "Es un perro\n",
      "\u001b[1m1/1\u001b[0m \u001b[32m━━━━━━━━━━━━━━━━━━━━\u001b[0m\u001b[37m\u001b[0m \u001b[1m0s\u001b[0m 40ms/step\n",
      "Es un perro\n",
      "WARNING:tensorflow:5 out of the last 5 calls to <function TensorFlowTrainer.make_predict_function.<locals>.one_step_on_data_distributed at 0x0000018707F65080> triggered tf.function retracing. Tracing is expensive and the excessive number of tracings could be due to (1) creating @tf.function repeatedly in a loop, (2) passing tensors with different shapes, (3) passing Python objects instead of tensors. For (1), please define your @tf.function outside of the loop. For (2), @tf.function has reduce_retracing=True option that can avoid unnecessary retracing. For (3), please refer to https://www.tensorflow.org/guide/function#controlling_retracing and https://www.tensorflow.org/api_docs/python/tf/function for  more details.\n",
      "\u001b[1m1/1\u001b[0m \u001b[32m━━━━━━━━━━━━━━━━━━━━\u001b[0m\u001b[37m\u001b[0m \u001b[1m0s\u001b[0m 43ms/step\n",
      "Es un perro\n",
      "WARNING:tensorflow:6 out of the last 6 calls to <function TensorFlowTrainer.make_predict_function.<locals>.one_step_on_data_distributed at 0x000001870A964400> triggered tf.function retracing. Tracing is expensive and the excessive number of tracings could be due to (1) creating @tf.function repeatedly in a loop, (2) passing tensors with different shapes, (3) passing Python objects instead of tensors. For (1), please define your @tf.function outside of the loop. For (2), @tf.function has reduce_retracing=True option that can avoid unnecessary retracing. For (3), please refer to https://www.tensorflow.org/guide/function#controlling_retracing and https://www.tensorflow.org/api_docs/python/tf/function for  more details.\n",
      "\u001b[1m1/1\u001b[0m \u001b[32m━━━━━━━━━━━━━━━━━━━━\u001b[0m\u001b[37m\u001b[0m \u001b[1m0s\u001b[0m 44ms/step\n",
      "Es un gato\n"
     ]
    }
   ],
   "source": [
    "# print(os.getcwd())\n",
    "from utils import cargar_y_preprocesar_imagen, predecir_imagen\n",
    "predecir_imagen('dogs_vs_cats/predict/dog1.jpg')\n",
    "predecir_imagen('dogs_vs_cats/predict/kitten1.jpg')\n",
    "predecir_imagen('dogs_vs_cats/predict/cat1.jpg')\n",
    "predecir_imagen('dogs_vs_cats/predict/puppy1.jpg')\n",
    "predecir_imagen('dogs_vs_cats/predict/puppy2.jpg')\n",
    "predecir_imagen('dogs_vs_cats/predict/cat2.jpg')"
   ]
  }
 ],
 "metadata": {
  "kernelspec": {
   "display_name": "Python 3",
   "language": "python",
   "name": "python3"
  },
  "language_info": {
   "codemirror_mode": {
    "name": "ipython",
    "version": 3
   },
   "file_extension": ".py",
   "mimetype": "text/x-python",
   "name": "python",
   "nbconvert_exporter": "python",
   "pygments_lexer": "ipython3",
   "version": "3.12.2"
  }
 },
 "nbformat": 4,
 "nbformat_minor": 2
}
