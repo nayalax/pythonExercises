{
 "cells": [
  {
   "cell_type": "code",
   "execution_count": null,
   "metadata": {},
   "outputs": [],
   "source": [
    "import pandas as pd\n",
    "import numpy as np\n",
    "import matplotlib.pyplot as plt\n",
    "import utilities.utils as utils\n",
    "from openai import OpenAI\n",
    "from dotenv import load_dotenv\n",
    "from langchain_openai import ChatOpenAI\n",
    "from langchain.agents.agent_toolkits import create_sql_agent\n",
    "from langchain_astradb import AstraDBVectorStore\n",
    "from langchain_core.documents import Document\n",
    "from langchain_openai import OpenAIEmbeddings\n",
    "from langchain_core.runnables import RunnablePassthrough\n",
    "from langchain_core.output_parsers import StrOutputParser\n",
    "from langchain_core.prompts import ChatPromptTemplate\n",
    "from langchain.chains import ConversationChain\n",
    "from langchain.memory import ConversationBufferMemory\n",
    "from langchain.utilities.sql_database import SQLDatabase\n",
    "from sqlalchemy import create_engine\n",
    "import os\n",
    "\n",
    "load_dotenv()\n",
    "openaiApiKey = os.getenv(\"OPENAI_API_KEY\")\n",
    "gptEngine = \"gpt-3.5-turbo\"\n",
    "ASTRA_DB_APPLICATION_TOKEN = os.getenv(\"ASTRA_DB_APPLICATION_TOKEN\")\n",
    "ASTRA_DB_API_ENDPOINT = os.getenv(\"ASTRA_DB_API_ENDPOINT\")\n",
    "\n",
    "dataSource = \"../data/rotten_tomatoes_movies.csv\"\n",
    "df = pd.read_csv(dataSource)\n",
    "dbEngine = create_engine(\"sqlite:///movies.db\")\n",
    "df.to_sql(\"movies\", dbEngine, index=False, if_exists='replace')\n",
    "db = SQLDatabase(engine=dbEngine)\n",
    "print(db.dialect)\n",
    "print(db.get_usable_table_names())\n",
    "print(db.table_info)\n",
    "print(db.run(\"Select * from movies\"))\n",
    "# print(\"Dataframe head analysis \\n\", df.head())\n",
    "# print(\"\\n Dataframe null value analysis \\n\", df.isnull().sum())\n",
    "# print(\"\\n Unique Directos analysis \\n\", df['directors'].unique())\n",
    "# print(\"\\n Dataframe information \\n\", df.describe())"
   ]
  },
  {
   "cell_type": "code",
   "execution_count": null,
   "metadata": {},
   "outputs": [],
   "source": [
    "# Clean up the data for processing\n",
    "columns = ['movie_title', 'genres', 'directors', 'tomatometer_rating']\n",
    "directorDf = utils.clean_dataset(columns, df)\n",
    "\n",
    "# Get the amount of times a Director appears in the dataset\n",
    "directorCountDf = directorDf.directors.value_counts().reset_index().rename(columns={\"index\": \"value\", 0: \"count\"})\n",
    "\n",
    "# Get the amount of directors that appear only once and drop them from directorDf, else get the average rating for each director\n",
    "for row in directorCountDf.index:\n",
    "    if directorCountDf['count'][row] <= 1:\n",
    "        director = directorCountDf['directors'][row]\n",
    "        directorDf.drop(directorDf[directorDf['directors'] == director].index, inplace=True, axis=0)\n",
    "        \n",
    "# Get the average rating for each director that is still in the dataframe\n",
    "avgRating = utils.get_avg_rating(directorDf)\n",
    "avgRating.tomatometer_rating = avgRating.tomatometer_rating.round(1)\n",
    "\n",
    "#Drop directors who have an average rating of 0\n",
    "for index, row in avgRating.iterrows():\n",
    "    if (row.tomatometer_rating == 0.0):\n",
    "        avgRating.drop(avgRating[avgRating.tomatometer_rating == 0.0].index, inplace=True, axis=0)"
   ]
  },
  {
   "cell_type": "code",
   "execution_count": null,
   "metadata": {},
   "outputs": [],
   "source": [
    "# Lets show a plot to show the average ratings for the director(s)\n",
    "# Lets begin by creating some buckets divisible by 10\n",
    "bucket0, bucket10, bucket20, bucket30, bucket40, bucket50, bucket60, bucket70, bucket80, bucket90 = ([] for i in range(10))\n",
    "\n",
    "for index, row in avgRating.iterrows():\n",
    "    print(row['directors'], row['tomatometer_rating'])\n",
    "    director = row['directors']\n",
    "    if row['tomatometer_rating'] < 10:\n",
    "        bucket0.append(director)\n",
    "    elif (row['tomatometer_rating'] >= 10) & (row['tomatometer_rating'] < 20):\n",
    "        bucket10.append(director)\n",
    "    elif (row['tomatometer_rating'] >= 20) & (row['tomatometer_rating'] < 30):\n",
    "        bucket20.append(director)\n",
    "    elif (row['tomatometer_rating'] >= 30) & (row['tomatometer_rating'] < 40):\n",
    "        bucket30.append(director)\n",
    "    elif (row['tomatometer_rating'] >= 40) & (row['tomatometer_rating'] < 50):\n",
    "        bucket40.append(director)\n",
    "    elif (row['tomatometer_rating'] >= 50) & (row['tomatometer_rating'] < 60):\n",
    "        bucket50.append(director)\n",
    "    elif (row['tomatometer_rating'] >= 60) & (row['tomatometer_rating'] < 70):\n",
    "        bucket60.append(director)\n",
    "    elif (row['tomatometer_rating'] >= 70) & (row['tomatometer_rating'] < 80):\n",
    "        bucket70.append(director)\n",
    "    elif (row['tomatometer_rating'] >= 80) & (row['tomatometer_rating'] < 90):\n",
    "        bucket80.append(director)\n",
    "    elif (row['tomatometer_rating'] >= 90) & (row['tomatometer_rating'] <= 100):\n",
    "        bucket90.append(director)\n",
    "\n",
    "# print(\"This is bucket0: \\n\", bucket0)\n",
    "# print(\"\\nThis is bucket10: \\n\", bucket10)\n",
    "# print(\"\\nThis is bucket10: \\n\", bucket20)\n",
    "# print(\"\\nThis is bucket10: \\n\", bucket30)\n",
    "# print(\"\\nThis is bucket10: \\n\", bucket40)\n",
    "# print(\"\\nThis is bucket10: \\n\", bucket50)\n",
    "# print(\"\\nThis is bucket10: \\n\", bucket60)\n",
    "# print(\"\\nThis is bucket10: \\n\", bucket70)\n",
    "# print(\"\\nThis is bucket10: \\n\", bucket80)\n",
    "# print(\"\\nThis is bucket10: \\n\", bucket90)"
   ]
  },
  {
   "cell_type": "code",
   "execution_count": 42,
   "metadata": {},
   "outputs": [
    {
     "data": {
      "image/png": "[encoded data removed]",
      "text/plain": [
       "<Figure size 640x480 with 1 Axes>"
      ]
     },
     "metadata": {},
     "output_type": "display_data"
    }
   ],
   "source": [
    "# Create a bar graph using the buckets that have been created above.\n",
    "# Use the count of how many directors belong to each bucket.\n",
    "x = np.array([\"0-9\", \"10-19\", \"20-29\", \"30-39\", \"40-49\", \"50-59\", \"60-69\", \"70-79\", \"80-89\", \"90-100\"])\n",
    "y = np.array([len(bucket0), len(bucket10), len(bucket20), len(bucket30), len(bucket40), len(bucket50), len(bucket60), len(bucket70), len(bucket80), len(bucket90)])\n",
    "\n",
    "# Construct the bar graph\n",
    "plt.title(\"Movie Directors - Average Rating\")\n",
    "plt.xlabel(\"Avg. Rating\")\n",
    "plt.ylabel(\"# of Directors\")\n",
    "plt.bar(x, y)\n",
    "plt.show()"
   ]
  }
 ],
 "metadata": {
  "kernelspec": {
   "display_name": "Python 3",
   "language": "python",
   "name": "python3"
  },
  "language_info": {
   "codemirror_mode": {
    "name": "ipython",
    "version": 3
   },
   "file_extension": ".py",
   "mimetype": "text/x-python",
   "name": "python",
   "nbconvert_exporter": "python",
   "pygments_lexer": "ipython3",
   "version": "3.12.2"
  }
 },
 "nbformat": 4,
 "nbformat_minor": 2
}
