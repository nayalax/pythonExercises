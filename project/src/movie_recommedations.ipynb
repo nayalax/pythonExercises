{
 "cells": [
  {
   "cell_type": "code",
   "execution_count": null,
   "metadata": {},
   "outputs": [],
   "source": [
    "import pandas as pd\n",
    "import streamlit as st\n",
    "from dotenv import load_dotenv\n",
    "import utilities.utils as tools\n",
    "import os\n",
    "from sklearn.feature_extraction.text import TfidfVectorizer\n",
    "from sklearn.metrics.pairwise import cosine_similarity\n",
    "from openai import OpenAI, ChatCompletion\n",
    "from langchain_astradb import AstraDBVectorStore\n",
    "from langchain_core.documents import Document\n",
    "from langchain_openai import OpenAIEmbeddings\n",
    "import utilities.PushToAstra as pta\n",
    "\n",
    "\n",
    "load_dotenv()\n",
    "openaiApiKey = os.getenv(\"OPENAI_API_KEY\")\n",
    "engine = \"gpt-3.5-turbo\"\n",
    "ASTRA_DB_APPLICATION_TOKEN = os.getenv(\"ASTRA_DB_APPLICATION_TOKEN\")\n",
    "ASTRA_DB_API_ENDPOINT = os.getenv(\"ASTRA_DB_API_ENDPOINT\")"
   ]
  },
  {
   "cell_type": "code",
   "execution_count": null,
   "metadata": {},
   "outputs": [],
   "source": [
    "load_dotenv()\n",
    "\n",
    "dataSource = \"../data/rotten_tomatoes_movies.csv\"\n",
    "df = pd.read_csv(dataSource)\n",
    "\n",
    "# Clean up the data for processing\n",
    "columns = ['movie_title','movie_info', 'genres', 'directors', 'tomatometer_rating']\n",
    "df = tools.clean_dataset(columns, df)\n",
    "df['summary'] = str(df['movie_title'].astype(str) + \": \" + df['directors'].astype(str) + \": \" + df['movie_info'].astype(str)).lower()\n",
    "df['processed'] = df['summary'].apply(tools.preprocess())"
   ]
  },
  {
   "cell_type": "code",
   "execution_count": null,
   "metadata": {},
   "outputs": [],
   "source": [
    "# Add the summary data to AstraDB\n",
    "astra = pta(api_key=openaiApiKey, model=\"text-embedding-3-large\", token=ASTRA_DB_APPLICATION_TOKEN, api_endpoint=ASTRA_DB_API_ENDPOINT)\n",
    "astra.push(df)"
   ]
  },
  {
   "cell_type": "code",
   "execution_count": null,
   "metadata": {},
   "outputs": [],
   "source": [
    "# Get the TF-IDF vectors\n",
    "vectorizer = TfidfVectorizer()\n",
    "tfidf_matrix = vectorizer.fit_transform(df['processed'])\n",
    "\n",
    "# Get the cosine similarity matrix\n",
    "cosineSim = cosine_similarity(tfidf_matrix, tfidf_matrix)"
   ]
  },
  {
   "cell_type": "code",
   "execution_count": null,
   "metadata": {},
   "outputs": [],
   "source": [
    "openai = OpenAI(api_key=openaiApiKey)\n",
    "st.title(\"Rotten Tomatoes Movie Recommendations\")\n",
    "\n",
    "userInput = st.text_input(\"Enter a movie you recently watched and enjoyed:\")\n",
    "num_recommendations = st.slider(\"Number of recommendations:\", min_value=1, max_value=15, value=5)\n",
    "\n",
    "if userInput:\n",
    "    st.write(\"You might also enjoy these movies:\")\n",
    "    recommendations = tools.get_recommendations(df, cosineSim, userInput)[:num_recommendations]\n",
    "    \n",
    "    movie_data = []    \n",
    "    st.write(\"Here are the rotton tomatoes scores and descriptions for each movie.\")\n",
    "    for movie in recommendations:\n",
    "        prompt = f\"Write a description for the movie {movie} and it's rotten tomatoes score\"\n",
    "        response = openai.ChatCompletion.create (\n",
    "            model=engine,\n",
    "            messages= [\n",
    "                {\"role\": \"system\", \"content\": \"You are a movie critic.\"},\n",
    "                {\"role\": \"user\", \"content\": prompt}\n",
    "            ]\n",
    "        )\n",
    "        movie_data.append([movie, response['choices'][0]['message']['content']])\n",
    "        \n",
    "    st.table(pd.DataFrame(movie_data, columns=[\"Movie\", \"Description & Score\"]))"
   ]
  }
 ],
 "metadata": {
  "kernelspec": {
   "display_name": "Python 3",
   "language": "python",
   "name": "python3"
  },
  "language_info": {
   "name": "python",
   "version": "3.12.2"
  }
 },
 "nbformat": 4,
 "nbformat_minor": 2
}
